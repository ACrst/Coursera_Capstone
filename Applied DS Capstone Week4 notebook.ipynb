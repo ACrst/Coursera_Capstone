{
 "cells": [
  {
   "cell_type": "markdown",
   "metadata": {},
   "source": [
    "### Business Problem\n"
   ]
  },
  {
   "cell_type": "markdown",
   "metadata": {},
   "source": [
    "Toronto is one of the metropolitan cities in the province of Ontario that lies in Canada. Being a popular city, it has a lot of venues to offer that range from localities to restaurants to historic monuments and religious places. A new resident to a city may want to explore different restaurants that would offer them comfort food in the new town. \n"
   ]
  },
  {
   "cell_type": "markdown",
   "metadata": {},
   "source": [
    "### Solution to our Business Problem using the chosen dataset"
   ]
  },
  {
   "cell_type": "markdown",
   "metadata": {},
   "source": [
    "The chosen data focusses on the location coordinates in the different boroughs in the city of Toronto. A lot of venues available by pin code would mean that the area or locality could be densely populated to offer a lot of options for a customer to dine. User reviews and pin codes to a location play an important role to help a new diner decide a place of dining in the new area. This project can help a new resident in a hometown understand the city of Toronto better to understand what Indian food venues are offered in their surroundings. This can also be expanded to provide a better view of other cuisines other than Indian food, as well as other venues such as recreational parks and hospitals."
   ]
  },
  {
   "cell_type": "code",
   "execution_count": null,
   "metadata": {},
   "outputs": [],
   "source": []
  }
 ],
 "metadata": {
  "kernelspec": {
   "display_name": "Python",
   "language": "python",
   "name": "conda-env-python-py"
  },
  "language_info": {
   "codemirror_mode": {
    "name": "ipython",
    "version": 3
   },
   "file_extension": ".py",
   "mimetype": "text/x-python",
   "name": "python",
   "nbconvert_exporter": "python",
   "pygments_lexer": "ipython3",
   "version": "3.6.11"
  }
 },
 "nbformat": 4,
 "nbformat_minor": 4
}
